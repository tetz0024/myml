{
 "cells": [
  {
   "cell_type": "code",
   "execution_count": 17,
   "metadata": {},
   "outputs": [
    {
     "name": "stdout",
     "output_type": "stream",
     "text": [
      "GradinetBoosting: 0.779\n",
      "RandomForest: 0.707\n",
      "OLS: 0.589\n",
      "Ridge: 0.588\n"
     ]
    }
   ],
   "source": [
    "# import libraries\n",
    "import matplotlib.pyplot as plt\n",
    "import pandas as pd\n",
    "import numpy as np\n",
    "import pickle\n",
    "from sklearn import datasets\n",
    "from sklearn.preprocessing import StandardScaler\n",
    "from sklearn.linear_model import LinearRegression, Ridge\n",
    "from sklearn.ensemble import RandomForestRegressor, GradientBoostingRegressor\n",
    "from sklearn.model_selection import train_test_split\n",
    "from sklearn.pipeline import Pipeline\n",
    "from sklearn.metrics import r2_score\n",
    "\n",
    "# evaluate regression models \n",
    "def main():\n",
    "\n",
    "    # set dataframe\n",
    "    dataset = load_dataset\n",
    "    X = pd.DataFrame(dataset.data, columns=dataset.feature_names)\n",
    "    y = pd.DataFrame(dataset.target, columns=['y'])\n",
    "\n",
    "    # cross-validation(holdout)\n",
    "    X_train, X_test, y_train, y_test = train_test_split(X, y, test_size=0.20, random_state=0)\n",
    "\n",
    "    # make pipelines for modeling\n",
    "    pipe_ols = Pipeline([('scl',StandardScaler()),('est',LinearRegression())])\n",
    "    pipe_ridge = Pipeline([('scl',StandardScaler()),('est',Ridge(random_state=1))])\n",
    "    pipe_rf = Pipeline([('scl',StandardScaler()),('est',RandomForestRegressor(random_state=1))])\n",
    "    pipe_gbr = Pipeline([('scl',StandardScaler()),('est',GradientBoostingRegressor(random_state=1))])\n",
    "\n",
    "    # make models    \n",
    "    pipe_ols.fit(X_train, y_train.as_matrix().ravel())\n",
    "    pipe_ridge.fit(X_train, y_train.as_matrix().ravel())\n",
    "    pipe_rf.fit(X_train, y_train.as_matrix().ravel())\n",
    "    pipe_gbr.fit(X_train, y_train.as_matrix().ravel())\n",
    "\n",
    "    # get R2 score\n",
    "    y_true = y_test.as_matrix().ravel()\n",
    "\n",
    "    pipe_scores = {}\n",
    "    pipe_scores['OLS'] = r2_score(y_true, pipe_ols.predict(X_test))\n",
    "    pipe_scores['Ridge'] = r2_score(y_true, pipe_ridge.predict(X_test))\n",
    "    pipe_scores['RandomForest'] = r2_score(y_true, pipe_rf.predict(X_test))\n",
    "    pipe_scores['GradinetBoosting'] = r2_score(y_true, pipe_gbr.predict(X_test))\n",
    "   \n",
    "    # print scores sorted descend\n",
    "    for pipe, score in sorted(pipe_scores.items(), key=lambda x: x[1], reverse=True):\n",
    "        print('%s: %.3f' %(pipe, score))\n",
    "\n",
    "    # output best model\n",
    "    best_scores = [kv for kv in pipe_scores.items() if kv[1] == max(pipe_scores.values())]\n",
    "    # dump pkl\n",
    "    with open( 'best_models.pickle', mode='wb') as f:\n",
    "        pickle.dump(best_scores, f)    \n",
    "    \n",
    "if __name__ == '__main__':\n",
    "\n",
    "  # set parameter\n",
    "  # import Sample Data to learn models\n",
    "  load_dataset = datasets.load_boston()\n",
    "\n",
    "  # main proc\n",
    "  main()\n"
   ]
  },
  {
   "cell_type": "code",
   "execution_count": null,
   "metadata": {
    "collapsed": true
   },
   "outputs": [],
   "source": []
  }
 ],
 "metadata": {
  "kernelspec": {
   "display_name": "Python 3",
   "language": "python",
   "name": "python3"
  },
  "language_info": {
   "codemirror_mode": {
    "name": "ipython",
    "version": 3
   },
   "file_extension": ".py",
   "mimetype": "text/x-python",
   "name": "python",
   "nbconvert_exporter": "python",
   "pygments_lexer": "ipython3",
   "version": "3.6.3"
  }
 },
 "nbformat": 4,
 "nbformat_minor": 2
}
